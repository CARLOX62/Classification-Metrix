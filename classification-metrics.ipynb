{
 "cells": [
  {
   "cell_type": "code",
   "execution_count": 1,
   "id": "9ce67e0a",
   "metadata": {
    "_cell_guid": "b1076dfc-b9ad-4769-8c92-a6c4dae69d19",
    "_uuid": "8f2839f25d086af736a60e9eeb907d3b93b6e0e5",
    "execution": {
     "iopub.execute_input": "2025-07-22T10:52:10.552314Z",
     "iopub.status.busy": "2025-07-22T10:52:10.551961Z",
     "iopub.status.idle": "2025-07-22T10:52:13.020425Z",
     "shell.execute_reply": "2025-07-22T10:52:13.019086Z"
    },
    "papermill": {
     "duration": 2.47791,
     "end_time": "2025-07-22T10:52:13.022491",
     "exception": false,
     "start_time": "2025-07-22T10:52:10.544581",
     "status": "completed"
    },
    "tags": []
   },
   "outputs": [
    {
     "name": "stdout",
     "output_type": "stream",
     "text": [
      "/kaggle/input/new-heart-dataset/raw_merged_heart_dataset.csv\n"
     ]
    }
   ],
   "source": [
    "# This Python 3 environment comes with many helpful analytics libraries installed\n",
    "# It is defined by the kaggle/python Docker image: https://github.com/kaggle/docker-python\n",
    "# For example, here's several helpful packages to load\n",
    "\n",
    "import numpy as np # linear algebra\n",
    "import pandas as pd # data processing, CSV file I/O (e.g. pd.read_csv)\n",
    "\n",
    "# Input data files are available in the read-only \"../input/\" directory\n",
    "# For example, running this (by clicking run or pressing Shift+Enter) will list all files under the input directory\n",
    "\n",
    "import os\n",
    "for dirname, _, filenames in os.walk('/kaggle/input'):\n",
    "    for filename in filenames:\n",
    "        print(os.path.join(dirname, filename))\n",
    "\n",
    "# You can write up to 20GB to the current directory (/kaggle/working/) that gets preserved as output when you create a version using \"Save & Run All\" \n",
    "# You can also write temporary files to /kaggle/temp/, but they won't be saved outside of the current session"
   ]
  },
  {
   "cell_type": "code",
   "execution_count": 2,
   "id": "0a327d87",
   "metadata": {
    "execution": {
     "iopub.execute_input": "2025-07-22T10:52:13.033737Z",
     "iopub.status.busy": "2025-07-22T10:52:13.033315Z",
     "iopub.status.idle": "2025-07-22T10:52:13.066179Z",
     "shell.execute_reply": "2025-07-22T10:52:13.065232Z"
    },
    "papermill": {
     "duration": 0.040239,
     "end_time": "2025-07-22T10:52:13.067938",
     "exception": false,
     "start_time": "2025-07-22T10:52:13.027699",
     "status": "completed"
    },
    "tags": []
   },
   "outputs": [],
   "source": [
    "df = pd.read_csv('/kaggle/input/new-heart-dataset/raw_merged_heart_dataset.csv')"
   ]
  },
  {
   "cell_type": "code",
   "execution_count": 3,
   "id": "c1a33a9f",
   "metadata": {
    "execution": {
     "iopub.execute_input": "2025-07-22T10:52:13.079226Z",
     "iopub.status.busy": "2025-07-22T10:52:13.078799Z",
     "iopub.status.idle": "2025-07-22T10:52:13.111220Z",
     "shell.execute_reply": "2025-07-22T10:52:13.110196Z"
    },
    "papermill": {
     "duration": 0.040517,
     "end_time": "2025-07-22T10:52:13.113455",
     "exception": false,
     "start_time": "2025-07-22T10:52:13.072938",
     "status": "completed"
    },
    "tags": []
   },
   "outputs": [
    {
     "data": {
      "text/html": [
       "<div>\n",
       "<style scoped>\n",
       "    .dataframe tbody tr th:only-of-type {\n",
       "        vertical-align: middle;\n",
       "    }\n",
       "\n",
       "    .dataframe tbody tr th {\n",
       "        vertical-align: top;\n",
       "    }\n",
       "\n",
       "    .dataframe thead th {\n",
       "        text-align: right;\n",
       "    }\n",
       "</style>\n",
       "<table border=\"1\" class=\"dataframe\">\n",
       "  <thead>\n",
       "    <tr style=\"text-align: right;\">\n",
       "      <th></th>\n",
       "      <th>age</th>\n",
       "      <th>sex</th>\n",
       "      <th>cp</th>\n",
       "      <th>trestbps</th>\n",
       "      <th>chol</th>\n",
       "      <th>fbs</th>\n",
       "      <th>restecg</th>\n",
       "      <th>thalachh</th>\n",
       "      <th>exang</th>\n",
       "      <th>oldpeak</th>\n",
       "      <th>slope</th>\n",
       "      <th>ca</th>\n",
       "      <th>thal</th>\n",
       "      <th>target</th>\n",
       "    </tr>\n",
       "  </thead>\n",
       "  <tbody>\n",
       "    <tr>\n",
       "      <th>0</th>\n",
       "      <td>63</td>\n",
       "      <td>1</td>\n",
       "      <td>3</td>\n",
       "      <td>145</td>\n",
       "      <td>233</td>\n",
       "      <td>1</td>\n",
       "      <td>0</td>\n",
       "      <td>150</td>\n",
       "      <td>0</td>\n",
       "      <td>2.3</td>\n",
       "      <td>0</td>\n",
       "      <td>0</td>\n",
       "      <td>1</td>\n",
       "      <td>1</td>\n",
       "    </tr>\n",
       "    <tr>\n",
       "      <th>1</th>\n",
       "      <td>37</td>\n",
       "      <td>1</td>\n",
       "      <td>2</td>\n",
       "      <td>130</td>\n",
       "      <td>250</td>\n",
       "      <td>0</td>\n",
       "      <td>1</td>\n",
       "      <td>187</td>\n",
       "      <td>0</td>\n",
       "      <td>3.5</td>\n",
       "      <td>0</td>\n",
       "      <td>0</td>\n",
       "      <td>2</td>\n",
       "      <td>1</td>\n",
       "    </tr>\n",
       "    <tr>\n",
       "      <th>2</th>\n",
       "      <td>41</td>\n",
       "      <td>0</td>\n",
       "      <td>1</td>\n",
       "      <td>130</td>\n",
       "      <td>204</td>\n",
       "      <td>0</td>\n",
       "      <td>0</td>\n",
       "      <td>172</td>\n",
       "      <td>0</td>\n",
       "      <td>1.4</td>\n",
       "      <td>2</td>\n",
       "      <td>0</td>\n",
       "      <td>2</td>\n",
       "      <td>1</td>\n",
       "    </tr>\n",
       "    <tr>\n",
       "      <th>3</th>\n",
       "      <td>56</td>\n",
       "      <td>1</td>\n",
       "      <td>1</td>\n",
       "      <td>120</td>\n",
       "      <td>236</td>\n",
       "      <td>0</td>\n",
       "      <td>1</td>\n",
       "      <td>178</td>\n",
       "      <td>0</td>\n",
       "      <td>0.8</td>\n",
       "      <td>2</td>\n",
       "      <td>0</td>\n",
       "      <td>2</td>\n",
       "      <td>1</td>\n",
       "    </tr>\n",
       "    <tr>\n",
       "      <th>4</th>\n",
       "      <td>57</td>\n",
       "      <td>0</td>\n",
       "      <td>0</td>\n",
       "      <td>120</td>\n",
       "      <td>354</td>\n",
       "      <td>0</td>\n",
       "      <td>1</td>\n",
       "      <td>163</td>\n",
       "      <td>1</td>\n",
       "      <td>0.6</td>\n",
       "      <td>2</td>\n",
       "      <td>0</td>\n",
       "      <td>2</td>\n",
       "      <td>1</td>\n",
       "    </tr>\n",
       "  </tbody>\n",
       "</table>\n",
       "</div>"
      ],
      "text/plain": [
       "   age  sex  cp trestbps chol fbs restecg thalachh exang  oldpeak slope ca  \\\n",
       "0   63    1   3      145  233   1       0      150     0      2.3     0  0   \n",
       "1   37    1   2      130  250   0       1      187     0      3.5     0  0   \n",
       "2   41    0   1      130  204   0       0      172     0      1.4     2  0   \n",
       "3   56    1   1      120  236   0       1      178     0      0.8     2  0   \n",
       "4   57    0   0      120  354   0       1      163     1      0.6     2  0   \n",
       "\n",
       "  thal  target  \n",
       "0    1       1  \n",
       "1    2       1  \n",
       "2    2       1  \n",
       "3    2       1  \n",
       "4    2       1  "
      ]
     },
     "execution_count": 3,
     "metadata": {},
     "output_type": "execute_result"
    }
   ],
   "source": [
    "df.head()"
   ]
  },
  {
   "cell_type": "code",
   "execution_count": 4,
   "id": "93a92ee5",
   "metadata": {
    "execution": {
     "iopub.execute_input": "2025-07-22T10:52:13.125987Z",
     "iopub.status.busy": "2025-07-22T10:52:13.125633Z",
     "iopub.status.idle": "2025-07-22T10:52:15.062919Z",
     "shell.execute_reply": "2025-07-22T10:52:15.061875Z"
    },
    "papermill": {
     "duration": 1.945997,
     "end_time": "2025-07-22T10:52:15.065085",
     "exception": false,
     "start_time": "2025-07-22T10:52:13.119088",
     "status": "completed"
    },
    "tags": []
   },
   "outputs": [],
   "source": [
    "from sklearn.model_selection import train_test_split\n",
    "X_train,X_test,y_train,y_test = train_test_split(df.iloc[:,0:-1],df.iloc[:,-1],test_size=0.2,random_state=2)"
   ]
  },
  {
   "cell_type": "code",
   "execution_count": 5,
   "id": "3e945ff3",
   "metadata": {
    "execution": {
     "iopub.execute_input": "2025-07-22T10:52:15.077564Z",
     "iopub.status.busy": "2025-07-22T10:52:15.076790Z",
     "iopub.status.idle": "2025-07-22T10:52:15.406990Z",
     "shell.execute_reply": "2025-07-22T10:52:15.406103Z"
    },
    "papermill": {
     "duration": 0.338403,
     "end_time": "2025-07-22T10:52:15.408861",
     "exception": false,
     "start_time": "2025-07-22T10:52:15.070458",
     "status": "completed"
    },
    "tags": []
   },
   "outputs": [],
   "source": [
    "from sklearn.linear_model import LogisticRegression\n",
    "from sklearn.tree import DecisionTreeClassifier"
   ]
  },
  {
   "cell_type": "code",
   "execution_count": 6,
   "id": "f6671e35",
   "metadata": {
    "execution": {
     "iopub.execute_input": "2025-07-22T10:52:15.421020Z",
     "iopub.status.busy": "2025-07-22T10:52:15.420571Z",
     "iopub.status.idle": "2025-07-22T10:52:15.425618Z",
     "shell.execute_reply": "2025-07-22T10:52:15.424504Z"
    },
    "papermill": {
     "duration": 0.013147,
     "end_time": "2025-07-22T10:52:15.427331",
     "exception": false,
     "start_time": "2025-07-22T10:52:15.414184",
     "status": "completed"
    },
    "tags": []
   },
   "outputs": [],
   "source": [
    "clf1 = LogisticRegression()\n",
    "clf2 = DecisionTreeClassifier()"
   ]
  },
  {
   "cell_type": "code",
   "execution_count": 7,
   "id": "18af36b6",
   "metadata": {
    "execution": {
     "iopub.execute_input": "2025-07-22T10:52:15.438750Z",
     "iopub.status.busy": "2025-07-22T10:52:15.438421Z",
     "iopub.status.idle": "2025-07-22T10:52:15.474944Z",
     "shell.execute_reply": "2025-07-22T10:52:15.473507Z"
    },
    "papermill": {
     "duration": 0.044409,
     "end_time": "2025-07-22T10:52:15.476716",
     "exception": false,
     "start_time": "2025-07-22T10:52:15.432307",
     "status": "completed"
    },
    "tags": []
   },
   "outputs": [],
   "source": [
    "import pandas as pd\n",
    "\n",
    "# One-hot encode the categorical features in X_train and X_test\n",
    "X_train = pd.get_dummies(X_train)\n",
    "X_test = pd.get_dummies(X_test)\n",
    "\n",
    "# Align the columns of X_test to match X_train (handles any column mismatch)\n",
    "X_train, X_test = X_train.align(X_test, join='left', axis=1, fill_value=0)"
   ]
  },
  {
   "cell_type": "code",
   "execution_count": 8,
   "id": "60a5d5d9",
   "metadata": {
    "execution": {
     "iopub.execute_input": "2025-07-22T10:52:15.488493Z",
     "iopub.status.busy": "2025-07-22T10:52:15.488167Z",
     "iopub.status.idle": "2025-07-22T10:52:16.032322Z",
     "shell.execute_reply": "2025-07-22T10:52:16.029896Z"
    },
    "papermill": {
     "duration": 0.55343,
     "end_time": "2025-07-22T10:52:16.034956",
     "exception": false,
     "start_time": "2025-07-22T10:52:15.481526",
     "status": "completed"
    },
    "tags": []
   },
   "outputs": [
    {
     "name": "stderr",
     "output_type": "stream",
     "text": [
      "/usr/local/lib/python3.11/dist-packages/sklearn/linear_model/_logistic.py:458: ConvergenceWarning: lbfgs failed to converge (status=1):\n",
      "STOP: TOTAL NO. OF ITERATIONS REACHED LIMIT.\n",
      "\n",
      "Increase the number of iterations (max_iter) or scale the data as shown in:\n",
      "    https://scikit-learn.org/stable/modules/preprocessing.html\n",
      "Please also refer to the documentation for alternative solver options:\n",
      "    https://scikit-learn.org/stable/modules/linear_model.html#logistic-regression\n",
      "  n_iter_i = _check_optimize_result(\n"
     ]
    },
    {
     "data": {
      "text/html": [
       "<style>#sk-container-id-1 {color: black;background-color: white;}#sk-container-id-1 pre{padding: 0;}#sk-container-id-1 div.sk-toggleable {background-color: white;}#sk-container-id-1 label.sk-toggleable__label {cursor: pointer;display: block;width: 100%;margin-bottom: 0;padding: 0.3em;box-sizing: border-box;text-align: center;}#sk-container-id-1 label.sk-toggleable__label-arrow:before {content: \"▸\";float: left;margin-right: 0.25em;color: #696969;}#sk-container-id-1 label.sk-toggleable__label-arrow:hover:before {color: black;}#sk-container-id-1 div.sk-estimator:hover label.sk-toggleable__label-arrow:before {color: black;}#sk-container-id-1 div.sk-toggleable__content {max-height: 0;max-width: 0;overflow: hidden;text-align: left;background-color: #f0f8ff;}#sk-container-id-1 div.sk-toggleable__content pre {margin: 0.2em;color: black;border-radius: 0.25em;background-color: #f0f8ff;}#sk-container-id-1 input.sk-toggleable__control:checked~div.sk-toggleable__content {max-height: 200px;max-width: 100%;overflow: auto;}#sk-container-id-1 input.sk-toggleable__control:checked~label.sk-toggleable__label-arrow:before {content: \"▾\";}#sk-container-id-1 div.sk-estimator input.sk-toggleable__control:checked~label.sk-toggleable__label {background-color: #d4ebff;}#sk-container-id-1 div.sk-label input.sk-toggleable__control:checked~label.sk-toggleable__label {background-color: #d4ebff;}#sk-container-id-1 input.sk-hidden--visually {border: 0;clip: rect(1px 1px 1px 1px);clip: rect(1px, 1px, 1px, 1px);height: 1px;margin: -1px;overflow: hidden;padding: 0;position: absolute;width: 1px;}#sk-container-id-1 div.sk-estimator {font-family: monospace;background-color: #f0f8ff;border: 1px dotted black;border-radius: 0.25em;box-sizing: border-box;margin-bottom: 0.5em;}#sk-container-id-1 div.sk-estimator:hover {background-color: #d4ebff;}#sk-container-id-1 div.sk-parallel-item::after {content: \"\";width: 100%;border-bottom: 1px solid gray;flex-grow: 1;}#sk-container-id-1 div.sk-label:hover label.sk-toggleable__label {background-color: #d4ebff;}#sk-container-id-1 div.sk-serial::before {content: \"\";position: absolute;border-left: 1px solid gray;box-sizing: border-box;top: 0;bottom: 0;left: 50%;z-index: 0;}#sk-container-id-1 div.sk-serial {display: flex;flex-direction: column;align-items: center;background-color: white;padding-right: 0.2em;padding-left: 0.2em;position: relative;}#sk-container-id-1 div.sk-item {position: relative;z-index: 1;}#sk-container-id-1 div.sk-parallel {display: flex;align-items: stretch;justify-content: center;background-color: white;position: relative;}#sk-container-id-1 div.sk-item::before, #sk-container-id-1 div.sk-parallel-item::before {content: \"\";position: absolute;border-left: 1px solid gray;box-sizing: border-box;top: 0;bottom: 0;left: 50%;z-index: -1;}#sk-container-id-1 div.sk-parallel-item {display: flex;flex-direction: column;z-index: 1;position: relative;background-color: white;}#sk-container-id-1 div.sk-parallel-item:first-child::after {align-self: flex-end;width: 50%;}#sk-container-id-1 div.sk-parallel-item:last-child::after {align-self: flex-start;width: 50%;}#sk-container-id-1 div.sk-parallel-item:only-child::after {width: 0;}#sk-container-id-1 div.sk-dashed-wrapped {border: 1px dashed gray;margin: 0 0.4em 0.5em 0.4em;box-sizing: border-box;padding-bottom: 0.4em;background-color: white;}#sk-container-id-1 div.sk-label label {font-family: monospace;font-weight: bold;display: inline-block;line-height: 1.2em;}#sk-container-id-1 div.sk-label-container {text-align: center;}#sk-container-id-1 div.sk-container {/* jupyter's `normalize.less` sets `[hidden] { display: none; }` but bootstrap.min.css set `[hidden] { display: none !important; }` so we also need the `!important` here to be able to override the default hidden behavior on the sphinx rendered scikit-learn.org. See: https://github.com/scikit-learn/scikit-learn/issues/21755 */display: inline-block !important;position: relative;}#sk-container-id-1 div.sk-text-repr-fallback {display: none;}</style><div id=\"sk-container-id-1\" class=\"sk-top-container\"><div class=\"sk-text-repr-fallback\"><pre>DecisionTreeClassifier()</pre><b>In a Jupyter environment, please rerun this cell to show the HTML representation or trust the notebook. <br />On GitHub, the HTML representation is unable to render, please try loading this page with nbviewer.org.</b></div><div class=\"sk-container\" hidden><div class=\"sk-item\"><div class=\"sk-estimator sk-toggleable\"><input class=\"sk-toggleable__control sk-hidden--visually\" id=\"sk-estimator-id-1\" type=\"checkbox\" checked><label for=\"sk-estimator-id-1\" class=\"sk-toggleable__label sk-toggleable__label-arrow\">DecisionTreeClassifier</label><div class=\"sk-toggleable__content\"><pre>DecisionTreeClassifier()</pre></div></div></div></div></div>"
      ],
      "text/plain": [
       "DecisionTreeClassifier()"
      ]
     },
     "execution_count": 8,
     "metadata": {},
     "output_type": "execute_result"
    }
   ],
   "source": [
    "clf1.fit(X_train, y_train)\n",
    "clf2.fit(X_train, y_train)"
   ]
  },
  {
   "cell_type": "code",
   "execution_count": 9,
   "id": "ce125dfc",
   "metadata": {
    "execution": {
     "iopub.execute_input": "2025-07-22T10:52:16.055575Z",
     "iopub.status.busy": "2025-07-22T10:52:16.055168Z",
     "iopub.status.idle": "2025-07-22T10:52:16.073366Z",
     "shell.execute_reply": "2025-07-22T10:52:16.072342Z"
    },
    "papermill": {
     "duration": 0.030882,
     "end_time": "2025-07-22T10:52:16.075078",
     "exception": false,
     "start_time": "2025-07-22T10:52:16.044196",
     "status": "completed"
    },
    "tags": []
   },
   "outputs": [],
   "source": [
    "y_pred1 = clf1.predict(X_test)\n",
    "y_pred2 = clf2.predict(X_test)"
   ]
  },
  {
   "cell_type": "markdown",
   "id": "27f86cea",
   "metadata": {
    "papermill": {
     "duration": 0.005936,
     "end_time": "2025-07-22T10:52:16.086495",
     "exception": false,
     "start_time": "2025-07-22T10:52:16.080559",
     "status": "completed"
    },
    "tags": []
   },
   "source": [
    "# (a) Accuracy_score"
   ]
  },
  {
   "cell_type": "code",
   "execution_count": 10,
   "id": "a9a288b9",
   "metadata": {
    "execution": {
     "iopub.execute_input": "2025-07-22T10:52:16.099082Z",
     "iopub.status.busy": "2025-07-22T10:52:16.098682Z",
     "iopub.status.idle": "2025-07-22T10:52:16.107888Z",
     "shell.execute_reply": "2025-07-22T10:52:16.106749Z"
    },
    "papermill": {
     "duration": 0.017139,
     "end_time": "2025-07-22T10:52:16.109414",
     "exception": false,
     "start_time": "2025-07-22T10:52:16.092275",
     "status": "completed"
    },
    "tags": []
   },
   "outputs": [
    {
     "name": "stdout",
     "output_type": "stream",
     "text": [
      "Accuracy of Logistic Regression 0.851258581235698\n",
      "Accuracy of Decision Trees 0.9382151029748284\n"
     ]
    }
   ],
   "source": [
    "from sklearn.metrics import accuracy_score\n",
    "print(\"Accuracy of Logistic Regression\",accuracy_score(y_test,y_pred1))\n",
    "print(\"Accuracy of Decision Trees\",accuracy_score(y_test,y_pred2))"
   ]
  },
  {
   "cell_type": "markdown",
   "id": "4c4c1217",
   "metadata": {
    "papermill": {
     "duration": 0.004649,
     "end_time": "2025-07-22T10:52:16.119087",
     "exception": false,
     "start_time": "2025-07-22T10:52:16.114438",
     "status": "completed"
    },
    "tags": []
   },
   "source": [
    "# (b) Confusion Matrix"
   ]
  },
  {
   "cell_type": "code",
   "execution_count": 11,
   "id": "482e990f",
   "metadata": {
    "execution": {
     "iopub.execute_input": "2025-07-22T10:52:16.130263Z",
     "iopub.status.busy": "2025-07-22T10:52:16.129903Z",
     "iopub.status.idle": "2025-07-22T10:52:16.134453Z",
     "shell.execute_reply": "2025-07-22T10:52:16.133509Z"
    },
    "papermill": {
     "duration": 0.012298,
     "end_time": "2025-07-22T10:52:16.136229",
     "exception": false,
     "start_time": "2025-07-22T10:52:16.123931",
     "status": "completed"
    },
    "tags": []
   },
   "outputs": [],
   "source": [
    "from sklearn.metrics import confusion_matrix"
   ]
  },
  {
   "cell_type": "code",
   "execution_count": 12,
   "id": "8ba8bc44",
   "metadata": {
    "execution": {
     "iopub.execute_input": "2025-07-22T10:52:16.148708Z",
     "iopub.status.busy": "2025-07-22T10:52:16.148382Z",
     "iopub.status.idle": "2025-07-22T10:52:16.158800Z",
     "shell.execute_reply": "2025-07-22T10:52:16.157727Z"
    },
    "papermill": {
     "duration": 0.019045,
     "end_time": "2025-07-22T10:52:16.160640",
     "exception": false,
     "start_time": "2025-07-22T10:52:16.141595",
     "status": "completed"
    },
    "tags": []
   },
   "outputs": [
    {
     "data": {
      "text/plain": [
       "array([[212,  38],\n",
       "       [ 27, 160]])"
      ]
     },
     "execution_count": 12,
     "metadata": {},
     "output_type": "execute_result"
    }
   ],
   "source": [
    "confusion_matrix(y_test,y_pred1)"
   ]
  },
  {
   "cell_type": "code",
   "execution_count": 13,
   "id": "b4551f2e",
   "metadata": {
    "execution": {
     "iopub.execute_input": "2025-07-22T10:52:16.172460Z",
     "iopub.status.busy": "2025-07-22T10:52:16.172160Z",
     "iopub.status.idle": "2025-07-22T10:52:16.184642Z",
     "shell.execute_reply": "2025-07-22T10:52:16.183447Z"
    },
    "papermill": {
     "duration": 0.020559,
     "end_time": "2025-07-22T10:52:16.186654",
     "exception": false,
     "start_time": "2025-07-22T10:52:16.166095",
     "status": "completed"
    },
    "tags": []
   },
   "outputs": [
    {
     "name": "stdout",
     "output_type": "stream",
     "text": [
      "Logistic Regression Confusion Matrix\n",
      "\n"
     ]
    },
    {
     "data": {
      "text/html": [
       "<div>\n",
       "<style scoped>\n",
       "    .dataframe tbody tr th:only-of-type {\n",
       "        vertical-align: middle;\n",
       "    }\n",
       "\n",
       "    .dataframe tbody tr th {\n",
       "        vertical-align: top;\n",
       "    }\n",
       "\n",
       "    .dataframe thead th {\n",
       "        text-align: right;\n",
       "    }\n",
       "</style>\n",
       "<table border=\"1\" class=\"dataframe\">\n",
       "  <thead>\n",
       "    <tr style=\"text-align: right;\">\n",
       "      <th></th>\n",
       "      <th>0</th>\n",
       "      <th>1</th>\n",
       "    </tr>\n",
       "  </thead>\n",
       "  <tbody>\n",
       "    <tr>\n",
       "      <th>0</th>\n",
       "      <td>212</td>\n",
       "      <td>38</td>\n",
       "    </tr>\n",
       "    <tr>\n",
       "      <th>1</th>\n",
       "      <td>27</td>\n",
       "      <td>160</td>\n",
       "    </tr>\n",
       "  </tbody>\n",
       "</table>\n",
       "</div>"
      ],
      "text/plain": [
       "     0    1\n",
       "0  212   38\n",
       "1   27  160"
      ]
     },
     "execution_count": 13,
     "metadata": {},
     "output_type": "execute_result"
    }
   ],
   "source": [
    "print(\"Logistic Regression Confusion Matrix\\n\")\n",
    "pd.DataFrame(confusion_matrix(y_test,y_pred1),columns=list(range(0,2)))"
   ]
  },
  {
   "cell_type": "code",
   "execution_count": 14,
   "id": "47ee4976",
   "metadata": {
    "execution": {
     "iopub.execute_input": "2025-07-22T10:52:16.198975Z",
     "iopub.status.busy": "2025-07-22T10:52:16.198632Z",
     "iopub.status.idle": "2025-07-22T10:52:16.211123Z",
     "shell.execute_reply": "2025-07-22T10:52:16.210165Z"
    },
    "papermill": {
     "duration": 0.020612,
     "end_time": "2025-07-22T10:52:16.212568",
     "exception": false,
     "start_time": "2025-07-22T10:52:16.191956",
     "status": "completed"
    },
    "tags": []
   },
   "outputs": [
    {
     "name": "stdout",
     "output_type": "stream",
     "text": [
      "Decision Tree Confusion Matrix\n",
      "\n"
     ]
    },
    {
     "data": {
      "text/html": [
       "<div>\n",
       "<style scoped>\n",
       "    .dataframe tbody tr th:only-of-type {\n",
       "        vertical-align: middle;\n",
       "    }\n",
       "\n",
       "    .dataframe tbody tr th {\n",
       "        vertical-align: top;\n",
       "    }\n",
       "\n",
       "    .dataframe thead th {\n",
       "        text-align: right;\n",
       "    }\n",
       "</style>\n",
       "<table border=\"1\" class=\"dataframe\">\n",
       "  <thead>\n",
       "    <tr style=\"text-align: right;\">\n",
       "      <th></th>\n",
       "      <th>0</th>\n",
       "      <th>1</th>\n",
       "    </tr>\n",
       "  </thead>\n",
       "  <tbody>\n",
       "    <tr>\n",
       "      <th>0</th>\n",
       "      <td>234</td>\n",
       "      <td>16</td>\n",
       "    </tr>\n",
       "    <tr>\n",
       "      <th>1</th>\n",
       "      <td>11</td>\n",
       "      <td>176</td>\n",
       "    </tr>\n",
       "  </tbody>\n",
       "</table>\n",
       "</div>"
      ],
      "text/plain": [
       "     0    1\n",
       "0  234   16\n",
       "1   11  176"
      ]
     },
     "execution_count": 14,
     "metadata": {},
     "output_type": "execute_result"
    }
   ],
   "source": [
    "print(\"Decision Tree Confusion Matrix\\n\")\n",
    "pd.DataFrame(confusion_matrix(y_test,y_pred2),columns=list(range(0,2)))"
   ]
  },
  {
   "cell_type": "code",
   "execution_count": 15,
   "id": "88ef9a7b",
   "metadata": {
    "execution": {
     "iopub.execute_input": "2025-07-22T10:52:16.224931Z",
     "iopub.status.busy": "2025-07-22T10:52:16.224549Z",
     "iopub.status.idle": "2025-07-22T10:52:16.232352Z",
     "shell.execute_reply": "2025-07-22T10:52:16.231394Z"
    },
    "papermill": {
     "duration": 0.016036,
     "end_time": "2025-07-22T10:52:16.234179",
     "exception": false,
     "start_time": "2025-07-22T10:52:16.218143",
     "status": "completed"
    },
    "tags": []
   },
   "outputs": [],
   "source": [
    "result = pd.DataFrame()\n",
    "result['Actual Label'] = y_test\n",
    "result['Logistic Regression Prediction'] = y_pred1\n",
    "result['Decision Tree Prediction'] = y_pred2"
   ]
  },
  {
   "cell_type": "code",
   "execution_count": 16,
   "id": "ae93c23f",
   "metadata": {
    "execution": {
     "iopub.execute_input": "2025-07-22T10:52:16.246653Z",
     "iopub.status.busy": "2025-07-22T10:52:16.246351Z",
     "iopub.status.idle": "2025-07-22T10:52:16.256760Z",
     "shell.execute_reply": "2025-07-22T10:52:16.255838Z"
    },
    "papermill": {
     "duration": 0.018835,
     "end_time": "2025-07-22T10:52:16.258536",
     "exception": false,
     "start_time": "2025-07-22T10:52:16.239701",
     "status": "completed"
    },
    "tags": []
   },
   "outputs": [
    {
     "data": {
      "text/html": [
       "<div>\n",
       "<style scoped>\n",
       "    .dataframe tbody tr th:only-of-type {\n",
       "        vertical-align: middle;\n",
       "    }\n",
       "\n",
       "    .dataframe tbody tr th {\n",
       "        vertical-align: top;\n",
       "    }\n",
       "\n",
       "    .dataframe thead th {\n",
       "        text-align: right;\n",
       "    }\n",
       "</style>\n",
       "<table border=\"1\" class=\"dataframe\">\n",
       "  <thead>\n",
       "    <tr style=\"text-align: right;\">\n",
       "      <th></th>\n",
       "      <th>Actual Label</th>\n",
       "      <th>Logistic Regression Prediction</th>\n",
       "      <th>Decision Tree Prediction</th>\n",
       "    </tr>\n",
       "  </thead>\n",
       "  <tbody>\n",
       "    <tr>\n",
       "      <th>1487</th>\n",
       "      <td>0</td>\n",
       "      <td>0</td>\n",
       "      <td>0</td>\n",
       "    </tr>\n",
       "    <tr>\n",
       "      <th>1306</th>\n",
       "      <td>1</td>\n",
       "      <td>0</td>\n",
       "      <td>1</td>\n",
       "    </tr>\n",
       "    <tr>\n",
       "      <th>785</th>\n",
       "      <td>0</td>\n",
       "      <td>0</td>\n",
       "      <td>0</td>\n",
       "    </tr>\n",
       "    <tr>\n",
       "      <th>209</th>\n",
       "      <td>0</td>\n",
       "      <td>0</td>\n",
       "      <td>0</td>\n",
       "    </tr>\n",
       "    <tr>\n",
       "      <th>1157</th>\n",
       "      <td>0</td>\n",
       "      <td>1</td>\n",
       "      <td>0</td>\n",
       "    </tr>\n",
       "    <tr>\n",
       "      <th>280</th>\n",
       "      <td>0</td>\n",
       "      <td>0</td>\n",
       "      <td>0</td>\n",
       "    </tr>\n",
       "    <tr>\n",
       "      <th>1353</th>\n",
       "      <td>0</td>\n",
       "      <td>0</td>\n",
       "      <td>1</td>\n",
       "    </tr>\n",
       "    <tr>\n",
       "      <th>2180</th>\n",
       "      <td>0</td>\n",
       "      <td>0</td>\n",
       "      <td>0</td>\n",
       "    </tr>\n",
       "    <tr>\n",
       "      <th>492</th>\n",
       "      <td>0</td>\n",
       "      <td>0</td>\n",
       "      <td>0</td>\n",
       "    </tr>\n",
       "    <tr>\n",
       "      <th>1895</th>\n",
       "      <td>1</td>\n",
       "      <td>1</td>\n",
       "      <td>1</td>\n",
       "    </tr>\n",
       "  </tbody>\n",
       "</table>\n",
       "</div>"
      ],
      "text/plain": [
       "      Actual Label  Logistic Regression Prediction  Decision Tree Prediction\n",
       "1487             0                               0                         0\n",
       "1306             1                               0                         1\n",
       "785              0                               0                         0\n",
       "209              0                               0                         0\n",
       "1157             0                               1                         0\n",
       "280              0                               0                         0\n",
       "1353             0                               0                         1\n",
       "2180             0                               0                         0\n",
       "492              0                               0                         0\n",
       "1895             1                               1                         1"
      ]
     },
     "execution_count": 16,
     "metadata": {},
     "output_type": "execute_result"
    }
   ],
   "source": [
    "result.sample(10)"
   ]
  },
  {
   "cell_type": "markdown",
   "id": "b4c413e0",
   "metadata": {
    "papermill": {
     "duration": 0.005325,
     "end_time": "2025-07-22T10:52:16.269599",
     "exception": false,
     "start_time": "2025-07-22T10:52:16.264274",
     "status": "completed"
    },
    "tags": []
   },
   "source": [
    "# (c) recall_score,precision_score,f1_score"
   ]
  },
  {
   "cell_type": "code",
   "execution_count": 17,
   "id": "7ed1e766",
   "metadata": {
    "execution": {
     "iopub.execute_input": "2025-07-22T10:52:16.281959Z",
     "iopub.status.busy": "2025-07-22T10:52:16.281600Z",
     "iopub.status.idle": "2025-07-22T10:52:16.286225Z",
     "shell.execute_reply": "2025-07-22T10:52:16.285304Z"
    },
    "papermill": {
     "duration": 0.01254,
     "end_time": "2025-07-22T10:52:16.287654",
     "exception": false,
     "start_time": "2025-07-22T10:52:16.275114",
     "status": "completed"
    },
    "tags": []
   },
   "outputs": [],
   "source": [
    "from sklearn.metrics import recall_score,precision_score,f1_score"
   ]
  },
  {
   "cell_type": "code",
   "execution_count": 18,
   "id": "cb1bcb95",
   "metadata": {
    "execution": {
     "iopub.execute_input": "2025-07-22T10:52:16.300408Z",
     "iopub.status.busy": "2025-07-22T10:52:16.300120Z",
     "iopub.status.idle": "2025-07-22T10:52:16.319739Z",
     "shell.execute_reply": "2025-07-22T10:52:16.318794Z"
    },
    "papermill": {
     "duration": 0.028226,
     "end_time": "2025-07-22T10:52:16.321722",
     "exception": false,
     "start_time": "2025-07-22T10:52:16.293496",
     "status": "completed"
    },
    "tags": []
   },
   "outputs": [
    {
     "name": "stdout",
     "output_type": "stream",
     "text": [
      "For Logistic regression Model\n",
      "--------------------------------------------------\n",
      "     0    1\n",
      "0  212   38\n",
      "1   27  160\n",
      "--------------------------------------------------\n",
      "Precision -  0.8080808080808081\n",
      "Recall -  0.8556149732620321\n",
      "F1 score -  0.8311688311688311\n"
     ]
    }
   ],
   "source": [
    "print(\"For Logistic regression Model\")\n",
    "print(\"-\"*50)\n",
    "cdf = pd.DataFrame(confusion_matrix(y_test,y_pred1),columns=list(range(0,2)))\n",
    "print(cdf)\n",
    "print(\"-\"*50)\n",
    "print(\"Precision - \",precision_score(y_test,y_pred1))\n",
    "print(\"Recall - \",recall_score(y_test,y_pred1))\n",
    "print(\"F1 score - \",f1_score(y_test,y_pred1))"
   ]
  },
  {
   "cell_type": "code",
   "execution_count": 19,
   "id": "1689f810",
   "metadata": {
    "execution": {
     "iopub.execute_input": "2025-07-22T10:52:16.334801Z",
     "iopub.status.busy": "2025-07-22T10:52:16.334523Z",
     "iopub.status.idle": "2025-07-22T10:52:16.350471Z",
     "shell.execute_reply": "2025-07-22T10:52:16.348989Z"
    },
    "papermill": {
     "duration": 0.025185,
     "end_time": "2025-07-22T10:52:16.352564",
     "exception": false,
     "start_time": "2025-07-22T10:52:16.327379",
     "status": "completed"
    },
    "tags": []
   },
   "outputs": [
    {
     "name": "stdout",
     "output_type": "stream",
     "text": [
      "For DT Model\n",
      "--------------------------------------------------\n",
      "     0    1\n",
      "0  234   16\n",
      "1   11  176\n",
      "--------------------------------------------------\n",
      "Precision -  0.9166666666666666\n",
      "Recall -  0.9411764705882353\n",
      "F1 score -  0.9287598944591028\n"
     ]
    }
   ],
   "source": [
    "print(\"For DT Model\")\n",
    "print(\"-\"*50)\n",
    "cdf = pd.DataFrame(confusion_matrix(y_test,y_pred2),columns=list(range(0,2)))\n",
    "print(cdf)\n",
    "print(\"-\"*50)\n",
    "print(\"Precision - \",precision_score(y_test,y_pred2))\n",
    "print(\"Recall - \",recall_score(y_test,y_pred2))\n",
    "print(\"F1 score - \",f1_score(y_test,y_pred2))"
   ]
  },
  {
   "cell_type": "code",
   "execution_count": 20,
   "id": "b7f34a5a",
   "metadata": {
    "execution": {
     "iopub.execute_input": "2025-07-22T10:52:16.366731Z",
     "iopub.status.busy": "2025-07-22T10:52:16.366445Z",
     "iopub.status.idle": "2025-07-22T10:52:16.375176Z",
     "shell.execute_reply": "2025-07-22T10:52:16.374359Z"
    },
    "papermill": {
     "duration": 0.017097,
     "end_time": "2025-07-22T10:52:16.376773",
     "exception": false,
     "start_time": "2025-07-22T10:52:16.359676",
     "status": "completed"
    },
    "tags": []
   },
   "outputs": [
    {
     "data": {
      "text/plain": [
       "array([0.88702929, 0.80808081])"
      ]
     },
     "execution_count": 20,
     "metadata": {},
     "output_type": "execute_result"
    }
   ],
   "source": [
    "precision_score(y_test,y_pred1,average=None)"
   ]
  },
  {
   "cell_type": "code",
   "execution_count": 21,
   "id": "8543ab49",
   "metadata": {
    "execution": {
     "iopub.execute_input": "2025-07-22T10:52:16.389755Z",
     "iopub.status.busy": "2025-07-22T10:52:16.389462Z",
     "iopub.status.idle": "2025-07-22T10:52:16.398224Z",
     "shell.execute_reply": "2025-07-22T10:52:16.397421Z"
    },
    "papermill": {
     "duration": 0.016739,
     "end_time": "2025-07-22T10:52:16.399663",
     "exception": false,
     "start_time": "2025-07-22T10:52:16.382924",
     "status": "completed"
    },
    "tags": []
   },
   "outputs": [
    {
     "data": {
      "text/plain": [
       "array([0.95510204, 0.91666667])"
      ]
     },
     "execution_count": 21,
     "metadata": {},
     "output_type": "execute_result"
    }
   ],
   "source": [
    "precision_score(y_test,y_pred2,average=None)"
   ]
  },
  {
   "cell_type": "code",
   "execution_count": 22,
   "id": "a061ea6d",
   "metadata": {
    "execution": {
     "iopub.execute_input": "2025-07-22T10:52:16.413119Z",
     "iopub.status.busy": "2025-07-22T10:52:16.412358Z",
     "iopub.status.idle": "2025-07-22T10:52:16.421319Z",
     "shell.execute_reply": "2025-07-22T10:52:16.420318Z"
    },
    "papermill": {
     "duration": 0.01732,
     "end_time": "2025-07-22T10:52:16.422897",
     "exception": false,
     "start_time": "2025-07-22T10:52:16.405577",
     "status": "completed"
    },
    "tags": []
   },
   "outputs": [
    {
     "data": {
      "text/plain": [
       "array([0.936     , 0.94117647])"
      ]
     },
     "execution_count": 22,
     "metadata": {},
     "output_type": "execute_result"
    }
   ],
   "source": [
    "recall_score(y_test,y_pred2,average=None)"
   ]
  },
  {
   "cell_type": "code",
   "execution_count": null,
   "id": "6f148e44",
   "metadata": {
    "papermill": {
     "duration": 0.005773,
     "end_time": "2025-07-22T10:52:16.435111",
     "exception": false,
     "start_time": "2025-07-22T10:52:16.429338",
     "status": "completed"
    },
    "tags": []
   },
   "outputs": [],
   "source": []
  }
 ],
 "metadata": {
  "kaggle": {
   "accelerator": "none",
   "dataSources": [
    {
     "datasetId": 7918957,
     "sourceId": 12543093,
     "sourceType": "datasetVersion"
    }
   ],
   "dockerImageVersionId": 31089,
   "isGpuEnabled": false,
   "isInternetEnabled": true,
   "language": "python",
   "sourceType": "notebook"
  },
  "kernelspec": {
   "display_name": "Python 3",
   "language": "python",
   "name": "python3"
  },
  "language_info": {
   "codemirror_mode": {
    "name": "ipython",
    "version": 3
   },
   "file_extension": ".py",
   "mimetype": "text/x-python",
   "name": "python",
   "nbconvert_exporter": "python",
   "pygments_lexer": "ipython3",
   "version": "3.11.13"
  },
  "papermill": {
   "default_parameters": {},
   "duration": 12.135801,
   "end_time": "2025-07-22T10:52:17.161961",
   "environment_variables": {},
   "exception": null,
   "input_path": "__notebook__.ipynb",
   "output_path": "__notebook__.ipynb",
   "parameters": {},
   "start_time": "2025-07-22T10:52:05.026160",
   "version": "2.6.0"
  }
 },
 "nbformat": 4,
 "nbformat_minor": 5
}
